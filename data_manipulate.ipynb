{
 "cells": [
  {
   "cell_type": "code",
   "execution_count": 1,
   "metadata": {
    "collapsed": true
   },
   "outputs": [],
   "source": [
    "import pandas as pd\n",
    "\n"
   ]
  },
  {
   "cell_type": "code",
   "execution_count": 3,
   "outputs": [
    {
     "name": "stdout",
     "output_type": "stream",
     "text": [
      "      iso_code continent     location        date  total_cases  new_cases  \\\n",
      "0          AFG      Asia  Afghanistan  2020-02-24          1.0        1.0   \n",
      "1          AFG      Asia  Afghanistan  2020-02-25          1.0        0.0   \n",
      "2          AFG      Asia  Afghanistan  2020-02-26          1.0        0.0   \n",
      "3          AFG      Asia  Afghanistan  2020-02-27          1.0        0.0   \n",
      "4          AFG      Asia  Afghanistan  2020-02-28          1.0        0.0   \n",
      "...        ...       ...          ...         ...          ...        ...   \n",
      "92880      ZWE    Africa     Zimbabwe  2021-05-28      38918.0       64.0   \n",
      "92881      ZWE    Africa     Zimbabwe  2021-05-29      38933.0       15.0   \n",
      "92882      ZWE    Africa     Zimbabwe  2021-05-30      38944.0       11.0   \n",
      "92883      ZWE    Africa     Zimbabwe  2021-05-31      38961.0       17.0   \n",
      "92884      ZWE    Africa     Zimbabwe  2021-06-01      38998.0       37.0   \n",
      "\n",
      "       new_cases_smoothed  total_deaths  new_deaths  new_deaths_smoothed  ...  \\\n",
      "0                     NaN           NaN         NaN                  NaN  ...   \n",
      "1                     NaN           NaN         NaN                  NaN  ...   \n",
      "2                     NaN           NaN         NaN                  NaN  ...   \n",
      "3                     NaN           NaN         NaN                  NaN  ...   \n",
      "4                     NaN           NaN         NaN                  NaN  ...   \n",
      "...                   ...           ...         ...                  ...  ...   \n",
      "92880              36.286        1592.0         0.0                0.857  ...   \n",
      "92881              36.286        1594.0         2.0                1.143  ...   \n",
      "92882              37.429        1594.0         0.0                1.143  ...   \n",
      "92883              37.857        1594.0         0.0                1.143  ...   \n",
      "92884              41.714        1599.0         5.0                1.714  ...   \n",
      "\n",
      "       gdp_per_capita  extreme_poverty  cardiovasc_death_rate  \\\n",
      "0            1803.987              NaN                597.029   \n",
      "1            1803.987              NaN                597.029   \n",
      "2            1803.987              NaN                597.029   \n",
      "3            1803.987              NaN                597.029   \n",
      "4            1803.987              NaN                597.029   \n",
      "...               ...              ...                    ...   \n",
      "92880        1899.775             21.4                307.846   \n",
      "92881        1899.775             21.4                307.846   \n",
      "92882        1899.775             21.4                307.846   \n",
      "92883        1899.775             21.4                307.846   \n",
      "92884        1899.775             21.4                307.846   \n",
      "\n",
      "       diabetes_prevalence  female_smokers  male_smokers  \\\n",
      "0                     9.59             NaN           NaN   \n",
      "1                     9.59             NaN           NaN   \n",
      "2                     9.59             NaN           NaN   \n",
      "3                     9.59             NaN           NaN   \n",
      "4                     9.59             NaN           NaN   \n",
      "...                    ...             ...           ...   \n",
      "92880                 1.82             1.6          30.7   \n",
      "92881                 1.82             1.6          30.7   \n",
      "92882                 1.82             1.6          30.7   \n",
      "92883                 1.82             1.6          30.7   \n",
      "92884                 1.82             1.6          30.7   \n",
      "\n",
      "       handwashing_facilities  hospital_beds_per_thousand  life_expectancy  \\\n",
      "0                      37.746                         0.5            64.83   \n",
      "1                      37.746                         0.5            64.83   \n",
      "2                      37.746                         0.5            64.83   \n",
      "3                      37.746                         0.5            64.83   \n",
      "4                      37.746                         0.5            64.83   \n",
      "...                       ...                         ...              ...   \n",
      "92880                  36.791                         1.7            61.49   \n",
      "92881                  36.791                         1.7            61.49   \n",
      "92882                  36.791                         1.7            61.49   \n",
      "92883                  36.791                         1.7            61.49   \n",
      "92884                  36.791                         1.7            61.49   \n",
      "\n",
      "       human_development_index  \n",
      "0                        0.511  \n",
      "1                        0.511  \n",
      "2                        0.511  \n",
      "3                        0.511  \n",
      "4                        0.511  \n",
      "...                        ...  \n",
      "92880                    0.571  \n",
      "92881                    0.571  \n",
      "92882                    0.571  \n",
      "92883                    0.571  \n",
      "92884                    0.571  \n",
      "\n",
      "[92885 rows x 59 columns]\n"
     ]
    }
   ],
   "source": [
    "df = pd.read_csv(r'./data/covid-data.csv')\n",
    "print(df)"
   ],
   "metadata": {
    "collapsed": false,
    "pycharm": {
     "name": "#%%\n"
    }
   }
  },
  {
   "cell_type": "code",
   "execution_count": 4,
   "outputs": [
    {
     "data": {
      "text/plain": "Index(['iso_code', 'continent', 'location', 'date', 'total_cases', 'new_cases',\n       'new_cases_smoothed', 'total_deaths', 'new_deaths',\n       'new_deaths_smoothed', 'total_cases_per_million',\n       'new_cases_per_million', 'new_cases_smoothed_per_million',\n       'total_deaths_per_million', 'new_deaths_per_million',\n       'new_deaths_smoothed_per_million', 'reproduction_rate', 'icu_patients',\n       'icu_patients_per_million', 'hosp_patients',\n       'hosp_patients_per_million', 'weekly_icu_admissions',\n       'weekly_icu_admissions_per_million', 'weekly_hosp_admissions',\n       'weekly_hosp_admissions_per_million', 'new_tests', 'total_tests',\n       'total_tests_per_thousand', 'new_tests_per_thousand',\n       'new_tests_smoothed', 'new_tests_smoothed_per_thousand',\n       'positive_rate', 'tests_per_case', 'tests_units', 'total_vaccinations',\n       'people_vaccinated', 'people_fully_vaccinated', 'new_vaccinations',\n       'new_vaccinations_smoothed', 'total_vaccinations_per_hundred',\n       'people_vaccinated_per_hundred', 'people_fully_vaccinated_per_hundred',\n       'new_vaccinations_smoothed_per_million', 'stringency_index',\n       'population', 'population_density', 'median_age', 'aged_65_older',\n       'aged_70_older', 'gdp_per_capita', 'extreme_poverty',\n       'cardiovasc_death_rate', 'diabetes_prevalence', 'female_smokers',\n       'male_smokers', 'handwashing_facilities', 'hospital_beds_per_thousand',\n       'life_expectancy', 'human_development_index'],\n      dtype='object')"
     },
     "execution_count": 4,
     "metadata": {},
     "output_type": "execute_result"
    }
   ],
   "source": [
    "df.columns"
   ],
   "metadata": {
    "collapsed": false,
    "pycharm": {
     "name": "#%%\n"
    }
   }
  }
 ],
 "metadata": {
  "kernelspec": {
   "display_name": "Python 3",
   "language": "python",
   "name": "python3"
  },
  "language_info": {
   "codemirror_mode": {
    "name": "ipython",
    "version": 2
   },
   "file_extension": ".py",
   "mimetype": "text/x-python",
   "name": "python",
   "nbconvert_exporter": "python",
   "pygments_lexer": "ipython2",
   "version": "2.7.6"
  }
 },
 "nbformat": 4,
 "nbformat_minor": 0
}